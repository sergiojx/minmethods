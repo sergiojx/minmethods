{
 "cells": [
  {
   "cell_type": "code",
   "execution_count": 1,
   "metadata": {},
   "outputs": [
    {
     "name": "stdout",
     "output_type": "stream",
     "text": [
      "HOlA MYGABASIC\n"
     ]
    }
   ],
   "source": [
    "%load_ext autoreload\n",
    "%autoreload 2\n",
    "\n",
    "import numpy as np\n",
    "from numpy import genfromtxt\n",
    "from trueskill import TrueSkill, Rating, quality_1vs1, rate_1vs1\n",
    "import pandas as pd\n",
    "import seaborn as sns\n",
    "import matplotlib.pyplot as plt\n",
    "import matplotlib.image as mpimg\n",
    "import matplotlib.gridspec as gridspec\n",
    "from matplotlib.pyplot import figure\n",
    "from matplotlib import cm\n",
    "from scipy import stats\n",
    "import operator as op\n",
    "import pandas as pd\n",
    "from ast import literal_eval\n",
    "from mpl_toolkits.mplot3d import Axes3D\n",
    "import math\n",
    "import sys\n",
    "\n",
    "import mygabasic as ga\n",
    " \n",
    "%aimport mygabasic"
   ]
  },
  {
   "cell_type": "markdown",
   "metadata": {},
   "source": [
    "# Coevolution"
   ]
  },
  {
   "cell_type": "code",
   "execution_count": 36,
   "metadata": {},
   "outputs": [],
   "source": [
    "class SmNaiveAgent:\n",
    "    \"\"\"Simple clase de ejemplo\"\"\"\n",
    "   \n",
    "    def __init__(self, code, index):\n",
    "        self.code = np.copy(code)\n",
    "        self.state = 0\n",
    "        self.stateOutput = 0\n",
    "        self.cost = 0\n",
    "        self.stateOutput = code[int(self.state)]\n",
    "        self.index = index\n",
    "        \n",
    "    def play(self, oponetOutput):\n",
    "        # Update cost\n",
    "        # based on prisoner's dilemma cost matrix\n",
    "        if self.stateOutput == 0 and oponetOutput == 0:\n",
    "            self.cost = self.cost + 2\n",
    "        if self.stateOutput == 0 and oponetOutput == 1:\n",
    "            self.cost = self.cost + 7\n",
    "        if self.stateOutput == 1 and oponetOutput == 0:\n",
    "            self.cost = self.cost + 1\n",
    "        if self.stateOutput == 1 and oponetOutput == 1:\n",
    "            self.cost = self.cost + 4\n",
    "            \n",
    "        # print(self.cost)\n",
    "        # Workout next state\n",
    "        intState = int(self.state)   \n",
    "        nextStatePairCodes = self.code[((intState + 1)*4) : (((intState + 1)*4) + 4)]\n",
    "        # print(nextStatePairCodes)\n",
    "        nextState = nextStatePairCodes[int(oponetOutput)*2:(int(oponetOutput)*2 + 2)]\n",
    "        # print(nextState)\n",
    "        self.state = nextState.dot(2**np.arange(nextState.size)[::-1])\n",
    "        # print(self.state)\n",
    "        # Workout nex stateOutput\n",
    "        self.stateOutput = self.code[int(self.state)]\n",
    "        # print(self.stateOutput)\n",
    "               \n",
    "    def output(self):\n",
    "        return self.stateOutput;\n",
    "    \n",
    "    def currentstate(self):\n",
    "        return self.state\n",
    "    \n",
    "    def getcode(self):\n",
    "        return np.copy(self.code);\n",
    "    \n",
    "    def getindex(self):\n",
    "        return self.index\n",
    "    \n",
    "    def getCost(self):\n",
    "        # divided by the population size\n",
    "        return self.cost/100"
   ]
  },
  {
   "cell_type": "code",
   "execution_count": 3,
   "metadata": {},
   "outputs": [
    {
     "name": "stdout",
     "output_type": "stream",
     "text": [
      "[0 0 1 0 0 1 0 1 0 0 0 1 1 0 0 1 0 0 0 0]\n"
     ]
    }
   ],
   "source": [
    "Pop = ga.pgenerator(N=16,d =20)\n",
    "print(Pop[0])\n",
    "\n",
    "agent = SmNaiveAgent(Pop[0], 0)\n",
    "\n"
   ]
  },
  {
   "cell_type": "code",
   "execution_count": 4,
   "metadata": {},
   "outputs": [
    {
     "name": "stdout",
     "output_type": "stream",
     "text": [
      "0\n",
      "0\n",
      "[0 0 1 0 0 1 0 1 0 0 0 1 1 0 0 1 0 0 0 0]\n"
     ]
    }
   ],
   "source": [
    "print(agent.output())\n",
    "print(agent.currentstate())\n",
    "print(agent.getcode())"
   ]
  },
  {
   "cell_type": "code",
   "execution_count": 5,
   "metadata": {},
   "outputs": [],
   "source": [
    "agent.play(1)"
   ]
  },
  {
   "cell_type": "code",
   "execution_count": 6,
   "metadata": {},
   "outputs": [],
   "source": [
    "agent.play(1)"
   ]
  },
  {
   "cell_type": "code",
   "execution_count": 7,
   "metadata": {},
   "outputs": [],
   "source": [
    "agent.play(0)"
   ]
  },
  {
   "cell_type": "code",
   "execution_count": 8,
   "metadata": {},
   "outputs": [],
   "source": [
    "N = 8\n",
    "d = 20\n",
    "PopA = ga.pgenerator(N=N,d=d)\n",
    "PopB = ga.pgenerator(N=N,d=d)\n",
    "\n",
    "agentSetA = []\n",
    "agentSetB = []\n",
    "\n",
    "for i in range(N):\n",
    "    agentSetA.append(SmNaiveAgent(PopA[i],i))\n",
    "    \n",
    "for i in range(N):\n",
    "    agentSetB.append(SmNaiveAgent(PopB[i],i))"
   ]
  },
  {
   "cell_type": "markdown",
   "metadata": {},
   "source": [
    "# Play"
   ]
  },
  {
   "cell_type": "code",
   "execution_count": 9,
   "metadata": {},
   "outputs": [],
   "source": [
    "def play(N,agentSetA,agentSetB):\n",
    "    for i in range(N):\n",
    "        for j in range(N):\n",
    "            outA = agentSetA[i].output()\n",
    "            outB = agentSetB[j].output()\n",
    "            agentSetA[i].play(outB)\n",
    "            agentSetB[j].play(outA)\n",
    "            \n",
    "    return agentSetA,\n",
    "\n",
    "def playSingle(N,agentSetA,agentSetB):\n",
    "    for i in range(N):\n",
    "        outA = agentSetA[i].output()\n",
    "        outB = agentSetB[i].output()\n",
    "        agentSetA[i].play(outB)\n",
    "        agentSetB[i].play(outA)\n",
    "            \n",
    "    #return agentSetA,agentSetB"
   ]
  },
  {
   "cell_type": "code",
   "execution_count": 37,
   "metadata": {},
   "outputs": [
    {
     "name": "stdout",
     "output_type": "stream",
     "text": [
      " Iteration 7"
     ]
    },
    {
     "data": {
      "image/png": "[encoded data removed]",
      "text/plain": [
       "<Figure size 1332x756 with 1 Axes>"
      ]
     },
     "metadata": {},
     "output_type": "display_data"
    },
    {
     "name": "stdout",
     "output_type": "stream",
     "text": [
      "[1 1 1 1 0 0 0 0 1 0 0 0 0 0 1 1 1 1 0 1]\n",
      "[1 1 0 1 0 1 0 0 1 1 0 0 1 0 0 0 1 0 1 0]\n"
     ]
    },
    {
     "data": {
      "image/png": "[encoded data removed]",
      "text/plain": [
       "<Figure size 1332x756 with 1 Axes>"
      ]
     },
     "metadata": {},
     "output_type": "display_data"
    },
    {
     "name": "stdout",
     "output_type": "stream",
     "text": [
      "[1 1 1 1 0 0 1 0 1 0 1 1 1 1 1 1 1 1 1 1]\n",
      "[1 1 1 1 1 0 0 0 1 0 1 1 0 1 1 1 1 1 1 1]\n"
     ]
    }
   ],
   "source": [
    "# Generate population\n",
    "N = 100\n",
    "d = 20\n",
    "\n",
    "codeLen = 32\n",
    "genQty = 3\n",
    "iterations = 8\n",
    "matingPercent = 0.7\n",
    "mutaPercent = 1/d\n",
    "# Initial population\n",
    "PopA = ga.pgenerator(N=N,d=d)\n",
    "PopB = ga.pgenerator(N=N,d=d)\n",
    "# Evolving output matrix\n",
    "OUT_MatrixA = np.zeros((5, iterations))\n",
    "OUT_MatrixB = np.zeros((5, iterations))\n",
    "Iterations = []\n",
    "\n",
    "for j in range(0, iterations):\n",
    "    sys.stdout.write(\"\\r Iteration \" + str(j))\n",
    "    sys.stdout.flush()\n",
    "    Iterations.append(j)\n",
    "    \n",
    "    agentSetA = []\n",
    "    agentSetB = []\n",
    "\n",
    "    for i in range(N):\n",
    "        agentSetA.append(SmNaiveAgent(PopA[i],i))\n",
    "\n",
    "    for i in range(N):\n",
    "        agentSetB.append(SmNaiveAgent(PopB[i],i))\n",
    "\n",
    "    \n",
    "    play(N,agentSetA,agentSetB)\n",
    "    # workout fitnees after play phase\n",
    "    # print('setA')\n",
    "    fitListA = []\n",
    "    for i in range(N):\n",
    "        fitListA.append(agentSetA[i].getCost())\n",
    "        # print(agentSetA[i].getCost())\n",
    "    \n",
    "    OUT_MatrixA[0][j] = np.mean(fitListA)\n",
    "    OUT_MatrixA[1][j] = np.median(fitListA)\n",
    "    OUT_MatrixA[2][j] = np.max(fitListA)\n",
    "    OUT_MatrixA[3][j] = np.min(fitListA)\n",
    "    OUT_MatrixA[4][j] = np.std(fitListA)\n",
    "\n",
    "\n",
    "    \n",
    "    # print('setB')\n",
    "    fitListB = []\n",
    "    for i in range(N):\n",
    "        fitListB.append(agentSetB[i].getCost())\n",
    "        # print(agentSetB[i].getCost())\n",
    "        \n",
    "    OUT_MatrixB[0][j] = np.mean(fitListB)\n",
    "    OUT_MatrixB[1][j] = np.median(fitListB)\n",
    "    OUT_MatrixB[2][j] = np.max(fitListB)\n",
    "    OUT_MatrixB[3][j] = np.min(fitListB)\n",
    "    OUT_MatrixB[4][j] = np.std(fitListB)\n",
    "\n",
    "\n",
    "    pselectA = ga.tournamentSelection(PopA, fitListA, int(N/2))\n",
    "    pselectB = ga.tournamentSelection(PopB, fitListB, int(N/2))\n",
    "\n",
    "    childrenA = ga.childenGen(pselectA, matingPercent = matingPercent, mutaPercent = mutaPercent)\n",
    "    childrenB = ga.childenGen(pselectB, matingPercent = matingPercent, mutaPercent = mutaPercent)\n",
    "\n",
    "    # Double Population\n",
    "    PopA = np.concatenate((PopA,childrenA), axis=0)\n",
    "    PopB = np.concatenate((PopB,childrenB), axis=0)\n",
    "\n",
    "    agentSetAx = []\n",
    "    agentSetBx = []\n",
    "\n",
    "    for i in range(N*2):\n",
    "        agentSetAx.append(SmNaiveAgent(PopA[i],i))\n",
    "\n",
    "    for i in range(N*2):\n",
    "        agentSetBx.append(SmNaiveAgent(PopB[i],i))\n",
    "\n",
    "\n",
    "    play(N*2,agentSetAx,agentSetBx)\n",
    "\n",
    "\n",
    "    # print('setAx')\n",
    "    fitListAx = []\n",
    "    for i in range(N*2):\n",
    "        fitListAx.append(agentSetAx[i].getCost())\n",
    "        # print(agentSetAx[i].getCost())\n",
    "\n",
    "    # print('setBx')\n",
    "    fitListBx = []\n",
    "    for i in range(N*2):\n",
    "        fitListBx.append(agentSetBx[i].getCost())\n",
    "        # print(agentSetBx[i].getCost())\n",
    "\n",
    "\n",
    "    fitListAx_SortedIdxs = np.argsort(fitListAx)\n",
    "    tmpPopA = np.asarray(PopA)[fitListAx_SortedIdxs]\n",
    "    fitListBx_SortedIdxs = np.argsort(fitListBx)\n",
    "    tmpPopB = np.asarray(PopB)[fitListBx_SortedIdxs]\n",
    "\n",
    "    PopA = np.copy(tmpPopA[:N,:])\n",
    "    PopB = np.copy(tmpPopB[:N,:])\n",
    "\n",
    "\n",
    "\n",
    "plt.rcParams.update({'font.size': 16})\n",
    "fig = plt.gcf()\n",
    "fig.set_size_inches(18.5, 10.5)\n",
    "plt.plot(np.squeeze(Iterations),\n",
    "         np.squeeze(OUT_MatrixA[2]),\n",
    "         'b:',\n",
    "         np.squeeze(Iterations),\n",
    "         np.squeeze(OUT_MatrixA[3]),\n",
    "         'b:',\n",
    "         np.squeeze(Iterations),\n",
    "         np.squeeze(OUT_MatrixA[0]),\n",
    "         'k--',\n",
    "         np.squeeze(Iterations),\n",
    "         np.squeeze(OUT_MatrixA[1]),\n",
    "         'g-',\n",
    "         np.squeeze(Iterations),\n",
    "         np.squeeze(OUT_MatrixA[4]),\n",
    "         'r:')\n",
    "plt.show()\n",
    "print(PopA[0])\n",
    "print(PopA[N-1])\n",
    "plt.rcParams.update({'font.size': 16})\n",
    "fig = plt.gcf()\n",
    "fig.set_size_inches(18.5, 10.5)\n",
    "plt.plot(np.squeeze(Iterations),\n",
    "         np.squeeze(OUT_MatrixB[2]),\n",
    "         'b:',\n",
    "         np.squeeze(Iterations),\n",
    "         np.squeeze(OUT_MatrixB[3]),\n",
    "         'b:',\n",
    "         np.squeeze(Iterations),\n",
    "         np.squeeze(OUT_MatrixB[0]),\n",
    "         'k--',\n",
    "         np.squeeze(Iterations),\n",
    "         np.squeeze(OUT_MatrixB[1]),\n",
    "         'g-',\n",
    "         np.squeeze(Iterations),\n",
    "         np.squeeze(OUT_MatrixB[4]),\n",
    "         'r:')\n",
    "plt.show()\n",
    "print(PopB[0])\n",
    "print(PopB[N-1])"
   ]
  },
  {
   "cell_type": "code",
   "execution_count": null,
   "metadata": {},
   "outputs": [],
   "source": []
  }
 ],
 "metadata": {
  "kernelspec": {
   "display_name": "Python 3",
   "language": "python",
   "name": "python3"
  },
  "language_info": {
   "codemirror_mode": {
    "name": "ipython",
    "version": 3
   },
   "file_extension": ".py",
   "mimetype": "text/x-python",
   "name": "python",
   "nbconvert_exporter": "python",
   "pygments_lexer": "ipython3",
   "version": "3.6.5"
  }
 },
 "nbformat": 4,
 "nbformat_minor": 2
}
